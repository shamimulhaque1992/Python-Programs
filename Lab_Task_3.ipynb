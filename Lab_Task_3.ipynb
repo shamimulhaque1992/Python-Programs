{
  "nbformat": 4,
  "nbformat_minor": 0,
  "metadata": {
    "colab": {
      "name": "Lab_Task_3.ipynb",
      "provenance": [],
      "authorship_tag": "ABX9TyOZCEhtEq1oPq1IM+EBJsnA",
      "include_colab_link": true
    },
    "kernelspec": {
      "name": "python3",
      "display_name": "Python 3"
    }
  },
  "cells": [
    {
      "cell_type": "markdown",
      "metadata": {
        "id": "view-in-github",
        "colab_type": "text"
      },
      "source": [
        "<a href=\"https://colab.research.google.com/github/shamimulhaque1992/Python-Programs/blob/main/Lab_Task_3.ipynb\" target=\"_parent\"><img src=\"https://colab.research.google.com/assets/colab-badge.svg\" alt=\"Open In Colab\"/></a>"
      ]
    },
    {
      "cell_type": "code",
      "metadata": {
        "colab": {
          "base_uri": "https://localhost:8080/"
        },
        "id": "n2OKG4zCA6BZ",
        "outputId": "80416472-83a3-44ea-919f-4527c0834201"
      },
      "source": [
        "course_list=[]\r\n",
        "choice=\"random\"\r\n",
        "\r\n",
        "def un_line():\r\n",
        "    print(\"---------------------------\")\r\n",
        "\r\n",
        "def menu():\r\n",
        "    un_line()\r\n",
        "    print(\"Menu\")\r\n",
        "    un_line()\r\n",
        "    print(\"1. Add Course :\\n\")\r\n",
        "    print(\"2. Mark a Course Done! :\\n\")\r\n",
        "    print(\"3. View List :\\n\")\r\n",
        "    print(\"4. Exit :\\n\")\r\n",
        "    un_line()\r\n",
        "\r\n",
        "    choice=input(\"Enter Your choice :\\n\")\r\n",
        "    return choice\r\n",
        "\r\n",
        "while choice!=\"4\":\r\n",
        "    choice=menu()\r\n",
        "\r\n",
        "    if choice==\"1\":\r\n",
        "        course=input(\"Enter The course name into the course list :\\n\")\r\n",
        "        course_list.append(course)\r\n",
        "        print(\"Course\",course,\"is added to the course list \\n\")\r\n",
        "\r\n",
        "    elif choice==\"2\":\r\n",
        "        course=input(\"Enter The Name of the course Which Have been Completed :\\n\")\r\n",
        "        if course in course_list:\r\n",
        "            course_list.remove(course)\r\n",
        "            print(\"The course\",course,\"is removed from the course list\")\r\n",
        "        else:\r\n",
        "            print(\"Course not Found or haven't taken yet \\n\")\r\n",
        "\r\n",
        "    elif choice==\"3\":\r\n",
        "        un_line()\r\n",
        "        print(\"The course list :\\n\")\r\n",
        "        un_line()\r\n",
        "        for course in course_list:\r\n",
        "            print(course)\r\n",
        "    elif choice==\"4\":\r\n",
        "        print(\"GoodBuy!!!\")\r\n",
        "\r\n",
        "    else:\r\n",
        "        print(\"Invalid Choice! Please chose one of 1, 2, 3 or 4\")"
      ],
      "execution_count": null,
      "outputs": [
        {
          "output_type": "stream",
          "text": [
            "---------------------------\n",
            "Menu\n",
            "---------------------------\n",
            "1. Add Course :\n",
            "\n",
            "2. Mark a Course Done! :\n",
            "\n",
            "3. View List :\n",
            "\n",
            "4. Exit :\n",
            "\n",
            "---------------------------\n",
            "Enter Your choice :\n",
            "4\n",
            "GoodBuy!!!\n"
          ],
          "name": "stdout"
        }
      ]
    }
  ]
}